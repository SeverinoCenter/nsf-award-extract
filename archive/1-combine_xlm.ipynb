{
 "cells": [
  {
   "cell_type": "code",
   "execution_count": null,
   "id": "9a73e451",
   "metadata": {},
   "outputs": [],
   "source": [
    "import os\n",
    "import shutil\n",
    "\n",
    "base_dir = './Data/NSF-Downloads-8july2024/' \n",
    "\n",
    "new_xml_dir = './Data/NSF-Downloads-8july2024/xml' \n",
    "os.makedirs(new_xml_dir, exist_ok=True)\n",
    "\n",
    "xml_counts = {}\n",
    "total_xml_files = 0 \n",
    "\n",
    "# Traverse through each subfolder in the base directory\n",
    "for folder_name in os.listdir(base_dir):\n",
    "    folder_path = os.path.join(base_dir, folder_name)\n",
    "    if os.path.isdir(folder_path):\n",
    "        xml_count = 0\n",
    "        # Find and count XML files in the current folder\n",
    "        for root, dirs, files in os.walk(folder_path):\n",
    "            for file in files:\n",
    "                if file.endswith(\".xml\"):\n",
    "                    xml_count += 1\n",
    "                    total_xml_files += 1  # Increment the total count\n",
    "                    # Copy the XML file to the new directory\n",
    "                    src_file = os.path.join(root, file)\n",
    "                    dst_file = os.path.join(new_xml_dir, file)\n",
    "                    shutil.copy(src_file, dst_file)\n",
    "                    print(f\"Copied: {src_file} to {dst_file}\")  # Debug statement\n",
    "        # Store the count of XML files for the current folder\n",
    "        xml_counts[folder_name] = xml_count\n",
    "\n",
    "# Print the counts of XML files in each folder\n",
    "for folder, count in xml_counts.items():\n",
    "    print(f\"Folder {folder} contains {count} XML files\")\n",
    "\n",
    "# Print the total count of XML files copied\n",
    "print(f\"Total number of XML files copied: {total_xml_files}\")\n",
    "\n",
    "# Optional: Save the XML counts to a text file\n",
    "with open(\"xml_counts.txt\", \"w\") as f:\n",
    "    for folder, count in xml_counts.items():\n",
    "        f.write(f\"Folder {folder} contains {count} XML files\\n\")\n",
    "    f.write(f\"Total number of XML files copied: {total_xml_files}\\n\")\n"
   ]
  }
 ],
 "metadata": {
  "kernelspec": {
   "display_name": "Python 3 (ipykernel)",
   "language": "python",
   "name": "python3"
  },
  "language_info": {
   "codemirror_mode": {
    "name": "ipython",
    "version": 3
   },
   "file_extension": ".py",
   "mimetype": "text/x-python",
   "name": "python",
   "nbconvert_exporter": "python",
   "pygments_lexer": "ipython3",
   "version": "3.11.5"
  }
 },
 "nbformat": 4,
 "nbformat_minor": 5
}
