{
 "cells": [
  {
   "cell_type": "code",
   "execution_count": 1,
   "id": "fcc00b7d",
   "metadata": {},
   "outputs": [],
   "source": [
    "import pandas as pd"
   ]
  },
  {
   "cell_type": "code",
   "execution_count": 14,
   "id": "b531f9de",
   "metadata": {},
   "outputs": [
    {
     "name": "stderr",
     "output_type": "stream",
     "text": [
      "/var/folders/51/gj2tp9pn4klb16gg85jd62zc0000gn/T/ipykernel_2622/1377552430.py:1: DtypeWarning: Columns (11,19,41) have mixed types. Specify dtype option on import or set low_memory=False.\n",
      "  df9 = pd.read_csv('../Data/allNSF.csv')\n"
     ]
    }
   ],
   "source": [
    "df9 = pd.read_csv('../Data/allNSF.csv')\n",
    "cleaned_df = pd.read_csv('../Data/cleaned_merged_data.csv')\n",
    "#duplicates_df = pd.read_csv('../Data/Duplicates.csv')"
   ]
  },
  {
   "cell_type": "code",
   "execution_count": 15,
   "id": "21d53880",
   "metadata": {},
   "outputs": [],
   "source": [
    "merged_df_new = pd.concat([cleaned_df, df9], ignore_index=True)"
   ]
  },
  {
   "cell_type": "code",
   "execution_count": 16,
   "id": "7695e7df",
   "metadata": {},
   "outputs": [],
   "source": [
    "duplicates_df_new = pd.DataFrame()\n",
    "\n",
    "for column in merged_df_new.columns:\n",
    "    column_duplicates = merged_df_new[merged_df_new.duplicated(column, keep=False)]\n",
    "    duplicates_df_new = pd.concat([duplicates_df_new, column_duplicates]).drop_duplicates()\n",
    "\n",
    "duplicates_df_new.to_csv('../Data/duplicates_new_4.csv', index=False)"
   ]
  },
  {
   "cell_type": "code",
   "execution_count": 17,
   "id": "7ed5ba41",
   "metadata": {},
   "outputs": [],
   "source": [
    "cleaned_df_new = merged_df_new.drop_duplicates()\n",
    "cleaned_df_new.to_csv('../Data/cleaned_merged_data_new_4.csv', index=False)"
   ]
  },
  {
   "cell_type": "code",
   "execution_count": 20,
   "id": "f3a8f629",
   "metadata": {},
   "outputs": [
    {
     "name": "stdout",
     "output_type": "stream",
     "text": [
      "Shape of df7: (217358, 42)\n",
      "Shape of merged dataframe: (217760, 42)\n",
      "Shape of duplicates dataframe: (217760, 42)\n",
      "Shape of old cleaned merged dataframe: (402, 42)\n",
      "Shape of new cleaned merged dataframe: (217760, 42)\n"
     ]
    }
   ],
   "source": [
    "print(\"Shape of df7:\", df9.shape)\n",
    "print(\"Shape of merged dataframe:\", merged_df_new.shape)\n",
    "print(\"Shape of duplicates dataframe:\", duplicates_df_new.shape)\n",
    "print(\"Shape of old cleaned merged dataframe:\", cleaned_df.shape)\n",
    "print(\"Shape of new cleaned merged dataframe:\", cleaned_df_new.shape)"
   ]
  },
  {
   "cell_type": "code",
   "execution_count": null,
   "id": "c6fb8c92",
   "metadata": {},
   "outputs": [],
   "source": []
  }
 ],
 "metadata": {
  "kernelspec": {
   "display_name": "Python 3 (ipykernel)",
   "language": "python",
   "name": "python3"
  },
  "language_info": {
   "codemirror_mode": {
    "name": "ipython",
    "version": 3
   },
   "file_extension": ".py",
   "mimetype": "text/x-python",
   "name": "python",
   "nbconvert_exporter": "python",
   "pygments_lexer": "ipython3",
   "version": "3.11.5"
  }
 },
 "nbformat": 4,
 "nbformat_minor": 5
}
