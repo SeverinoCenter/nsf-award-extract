{
  "cells": [
    {
      "cell_type": "code",
      "execution_count": 1,
      "metadata": {
        "colab": {
          "base_uri": "https://localhost:8080/"
        },
        "id": "RrwcoOmboGOt",
        "outputId": "fc1b9cae-6701-49a9-b664-4cdda1ddb776"
      },
      "outputs": [],
      "source": [
        "#!pip install fundNSF"
      ]
    },
    {
      "cell_type": "markdown",
      "metadata": {
        "id": "Dmh5zk3PpwL5"
      },
      "source": [
        "# Approach: \n",
        "\n",
        "1) Start and get some simple query running that runs.\n",
        "2) Change all retrievable fields to True. \n",
        "https://github.com/C-NoBlok/fundNSF\n",
        "\n",
        "3) Create a loop so you run by year. \n",
        "4) Run loop for term I-Corps. \n",
        "\n",
        "\n"
      ]
    },
    {
      "cell_type": "code",
      "execution_count": 2,
      "metadata": {
        "id": "jzupJj0afXBS"
      },
      "outputs": [],
      "source": [
        "#from google.colab import files\n",
        "import csv\n",
        "import pandas as pd\n",
        "from fundNSF import FundNSF\n",
        "\n",
        "#df_all.to_csv('genICorp.csv', encoding='utf-8-sig')\n",
        "#files.download('genICorp.csv')"
      ]
    },
    {
      "cell_type": "code",
      "execution_count": 3,
      "metadata": {
        "colab": {
          "base_uri": "https://localhost:8080/"
        },
        "id": "f02ZT2j_octA",
        "outputId": "5c3b65c6-0415-4b31-87fe-e44d5de9debd"
      },
      "outputs": [],
      "source": [
        "\n",
        "nsf = FundNSF()\n",
        "nsf.set_fields(abstractText=True, offset=True, awardeeCountryCode=True, awardeeCounty=True, awardeeDistrictCode=True, awardeeZipCode=True, cfdaNumber=True, coPDPI=True, startDate=True, expDate=True, estimatedTotalAmt=True, fundsObligatedAmt=True, dunsNumber=True, fundProgramName=True, parentDunsNumber=True, pdPIName=True, perfCity=True,perfCountryCode =True,perfCounty =True, perfDistrictCode=True,perfLocation =True,perfStateCode =True,perfZipCode =True,poName =True, primaryProgram=True,transType =True,awardee =True,poPhone =True,poEmail =True,awardeeAddress =True,perfAddress =True,publicationResearch =True,publicationConference=True,fundAgencyCode =True,awardAgencyCode =True,projectOutComesReport =True,piMiddeInitial =True,piPhone =True, piEmail=True) # Data will now include the abstract text\n"
      ]
    },
    {
      "cell_type": "code",
      "execution_count": 8,
      "metadata": {
        "colab": {
          "base_uri": "https://localhost:8080/"
        },
        "id": "V-W2z-svsru-",
        "outputId": "07bfba7f-9b08-46e6-99ce-85012729deac"
      },
      "outputs": [
        {
          "name": "stdout",
          "output_type": "stream",
          "text": [
            "collecting page: 1 | Entries Found: 2\n",
            "\n",
            "collecting page: 1 | Entries Found: 11\n",
            "\n",
            "collecting page: 3 | Entries Found: 86\n",
            "\n",
            "collecting page: 9 | Entries Found: 13\n",
            "\n",
            "collecting page: 23 | Entries Found: 13\n",
            "\n",
            "collecting page: 92 | Entries Found: 14\n",
            "\n",
            "collecting page: 128 | Entries Found: 76\n",
            "\n",
            "collecting page: 184 | Entries Found: 36\n",
            "\n",
            "collecting page: 250 | Entries Found: 14\n",
            "\n",
            "collecting page: 219 | Entries Found: 11\n",
            "\n",
            "collecting page: 211 | Entries Found: 23\n",
            "\n",
            "collecting page: 218 | Entries Found: 22\n",
            "\n",
            "collecting page: 204 | Entries Found: 21\n",
            "\n",
            "collecting page: 200 | Entries Found: 15\n",
            "\n",
            "collecting page: 209 | Entries Found: 16\n",
            "\n",
            "collecting page: 205 | Entries Found: 66\n",
            "\n",
            "collecting page: 200 | Entries Found: 23\n",
            "\n",
            "collecting page: 207 | Entries Found: 23\n",
            "\n",
            "collecting page: 192 | Entries Found: 10\n",
            "\n",
            "collecting page: 177 | Entries Found: 26\n",
            "\n",
            "collecting page: 187 | Entries Found: 86\n",
            "\n",
            "collecting page: 192 | Entries Found: 13\n",
            "\n",
            "collecting page: 186 | Entries Found: 23\n",
            "\n",
            "collecting page: 193 | Entries Found: 46\n",
            "\n",
            "collecting page: 244 | Entries Found: 10\n",
            "\n",
            "collecting page: 203 | Entries Found: 19\n",
            "\n",
            "collecting page: 213 | Entries Found: 76\n",
            "\n",
            "collecting page: 189 | Entries Found: 24\n",
            "\n",
            "collecting page: 184 | Entries Found: 11\n",
            "\n",
            "collecting page: 183 | Entries Found: 12\n",
            "\n",
            "collecting page: 179 | Entries Found: 76\n",
            "\n",
            "collecting page: 147 | Entries Found: 14\n",
            "\n",
            "collecting page: 473 | Entries Found: 24\n",
            "\n",
            "collecting page: 480 | Entries Found: 56\n",
            "\n",
            "collecting page: 505 | Entries Found: 21\n",
            "\n",
            "collecting page: 488 | Entries Found: 20\n",
            "\n",
            "collecting page: 468 | Entries Found: 36\n",
            "\n"
          ]
        }
      ],
      "source": [
        "df_all=pd.DataFrame()\n",
        "for x in range(1986,2023):\n",
        "  nsf.set_params(dateStart='01/01/'+str(x),dateEnd='12/31/'+str(x)) # enter date as 'mm/dd/yyyy'\n",
        "  data = nsf.keyword_search('NSF')\n",
        "  df_temp=pd.DataFrame(data)\n",
        "  df_all=pd.concat([df_all,df_temp])"
      ]
    },
    {
      "cell_type": "code",
      "execution_count": 9,
      "metadata": {
        "colab": {
          "base_uri": "https://localhost:8080/",
          "height": 1000
        },
        "id": "oIEXRWYJrow0",
        "outputId": "b9c3c9b1-9fea-4167-d0b4-3e38acc90597"
      },
      "outputs": [],
      "source": [
        "df_all.to_csv(\"allNSF.csv\")"
      ]
    },
    {
      "cell_type": "code",
      "execution_count": 7,
      "metadata": {},
      "outputs": [
        {
          "data": {
            "text/html": [
              "<div>\n",
              "<style scoped>\n",
              "    .dataframe tbody tr th:only-of-type {\n",
              "        vertical-align: middle;\n",
              "    }\n",
              "\n",
              "    .dataframe tbody tr th {\n",
              "        vertical-align: top;\n",
              "    }\n",
              "\n",
              "    .dataframe thead th {\n",
              "        text-align: right;\n",
              "    }\n",
              "</style>\n",
              "<table border=\"1\" class=\"dataframe\">\n",
              "  <thead>\n",
              "    <tr style=\"text-align: right;\">\n",
              "      <th></th>\n",
              "    </tr>\n",
              "  </thead>\n",
              "  <tbody>\n",
              "  </tbody>\n",
              "</table>\n",
              "</div>"
            ],
            "text/plain": [
              "Empty DataFrame\n",
              "Columns: []\n",
              "Index: []"
            ]
          },
          "execution_count": 7,
          "metadata": {},
          "output_type": "execute_result"
        }
      ],
      "source": [
        "df_all"
      ]
    }
  ],
  "metadata": {
    "colab": {
      "name": "NSF-Pull.ipynb",
      "provenance": []
    },
    "kernelspec": {
      "display_name": "work_venv",
      "language": "python",
      "name": "python3"
    },
    "language_info": {
      "codemirror_mode": {
        "name": "ipython",
        "version": 3
      },
      "file_extension": ".py",
      "mimetype": "text/x-python",
      "name": "python",
      "nbconvert_exporter": "python",
      "pygments_lexer": "ipython3",
      "version": "3.10.0"
    },
    "vscode": {
      "interpreter": {
        "hash": "b024c659ee65afc3775408e7339303f06f94767a0632d34c361adde1b44a7834"
      }
    }
  },
  "nbformat": 4,
  "nbformat_minor": 0
}
