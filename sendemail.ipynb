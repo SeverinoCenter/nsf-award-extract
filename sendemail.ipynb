{
 "cells": [
  {
   "cell_type": "code",
   "execution_count": 3,
   "metadata": {},
   "outputs": [],
   "source": [
    "from appscript import app, k\n",
    "\n",
    "outlook = app('Microsoft Outlook')\n",
    "\n",
    "msg = outlook.make(\n",
    "    new=k.outgoing_message,\n",
    "    with_properties={\n",
    "        k.subject: 'Test Email',\n",
    "        k.plain_text_content: 'Test email body'})\n",
    "\n",
    "msg.make(\n",
    "    new=k.recipient,\n",
    "    with_properties={\n",
    "        k.email_address: {\n",
    "            k.name: 'Jason Kuruzovich',\n",
    "            k.address: 'jkuruzovich@gmail.com'}})\n",
    "\n",
    "msg.send()  # Automatically send the email"
   ]
  }
 ],
 "metadata": {
  "kernelspec": {
   "display_name": "Python 3.10(llm)",
   "language": "python",
   "name": "acv"
  },
  "language_info": {
   "codemirror_mode": {
    "name": "ipython",
    "version": 3
   },
   "file_extension": ".py",
   "mimetype": "text/x-python",
   "name": "python",
   "nbconvert_exporter": "python",
   "pygments_lexer": "ipython3",
   "version": "3.10.13"
  }
 },
 "nbformat": 4,
 "nbformat_minor": 2
}
