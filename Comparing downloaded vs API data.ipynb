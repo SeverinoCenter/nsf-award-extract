{
 "cells": [
  {
   "cell_type": "code",
   "execution_count": 1,
   "id": "cf1002a7",
   "metadata": {},
   "outputs": [
    {
     "name": "stderr",
     "output_type": "stream",
     "text": [
      "/var/folders/51/gj2tp9pn4klb16gg85jd62zc0000gn/T/ipykernel_6757/582390568.py:5: DtypeWarning: Columns (24) have mixed types. Specify dtype option on import or set low_memory=False.\n",
      "  combined_df = pd.read_csv(combined_data_path)\n",
      "/var/folders/51/gj2tp9pn4klb16gg85jd62zc0000gn/T/ipykernel_6757/582390568.py:9: DtypeWarning: Columns (0) have mixed types. Specify dtype option on import or set low_memory=False.\n",
      "  api_df = pd.read_csv(api_data_path)\n"
     ]
    }
   ],
   "source": [
    "import pandas as pd\n",
    "\n",
    "# combined data\n",
    "combined_data_path = \"/Users/mine/Documents/Projects/Research_Summer/NSF_Grant/NSF_Downloads_July082024/combined_data_extracted.csv\"  \n",
    "combined_df = pd.read_csv(combined_data_path)\n",
    "\n",
    "# API data\n",
    "api_data_path = \"/Users/mine/Documents/Projects/Research_Summer/NSF_Grant/NSF_Downloads_July082024/allNSF_2024_07_08_no_duplicates.csv\"  \n",
    "api_df = pd.read_csv(api_data_path)"
   ]
  },
  {
   "cell_type": "code",
   "execution_count": 2,
   "id": "1f71da55",
   "metadata": {},
   "outputs": [
    {
     "data": {
      "text/plain": [
       "Index(['AwardTitle', 'AwardEffectiveDate', 'AwardExpirationDate',\n",
       "       'AwardAmount', 'AwardInstrumentCode', 'AwardInstrumentValue',\n",
       "       'OrganizationCode', 'DirectorateAbbreviation', 'DirectorateCode',\n",
       "       'DirectorateLongName', 'DivisionCode', 'DivisionAbbreviation',\n",
       "       'DivisionLongName', 'ProgramOfficerSignBlockName',\n",
       "       'PropsalInformationID', 'AbstractNarration', 'MinAmdLetterDate',\n",
       "       'MaxAmdLetterDate', 'IsHistoricalAward', 'ARRAAmount',\n",
       "       'InstitutionName', 'InstitutionCityName', 'InstitutionStateCode',\n",
       "       'InstitutionZipCode', 'InstitutionPhoneNumber',\n",
       "       'InstitutionEmailAddress', 'InstitutionStreetAddress',\n",
       "       'InstitutionCountryCode', 'InstitutionCountryName',\n",
       "       'InstitutionStateName', 'InstitutionCountryFlag',\n",
       "       'AwardAmountRangeCategory', 'AwardExpirationDateEpoch',\n",
       "       'MinAmdLetterDateEpoch', 'MaxAmdLetterDateEpoch',\n",
       "       'AwardEffectiveDateEpoch', 'DREREFERENCE', 'AwardID'],\n",
       "      dtype='object')"
      ]
     },
     "execution_count": 2,
     "metadata": {},
     "output_type": "execute_result"
    }
   ],
   "source": [
    "combined_df.columns"
   ]
  },
  {
   "cell_type": "code",
   "execution_count": 3,
   "id": "b25f0304",
   "metadata": {},
   "outputs": [
    {
     "data": {
      "text/plain": [
       "Index(['id', 'id_hash', 'abstractText', 'agency', 'awardAgencyCode', 'awardee',\n",
       "       'awardeeAddress', 'awardeeCity', 'awardeeCountryCode',\n",
       "       'awardeeDistrictCode', 'awardeeName', 'awardeeStateCode',\n",
       "       'awardeeZipCode', 'cfdaNumber', 'coPDPI', 'date', 'estimatedTotalAmt',\n",
       "       'expDate', 'fundAgencyCode', 'fundProgramName', 'fundsObligatedAmt',\n",
       "       'pdPIName', 'perfAddress', 'perfCity', 'perfCountryCode',\n",
       "       'perfDistrictCode', 'perfLocation', 'perfStateCode', 'perfZipCode',\n",
       "       'piEmail', 'piFirstName', 'piLastName', 'poEmail', 'poName', 'poPhone',\n",
       "       'startDate', 'title', 'transType', 'piMiddeInitial', 'primaryProgram',\n",
       "       'publicationResearch', 'projectOutComesReport'],\n",
       "      dtype='object')"
      ]
     },
     "execution_count": 3,
     "metadata": {},
     "output_type": "execute_result"
    }
   ],
   "source": [
    "api_df.columns"
   ]
  },
  {
   "cell_type": "code",
   "execution_count": 4,
   "id": "c55f5ee5",
   "metadata": {},
   "outputs": [
    {
     "name": "stdout",
     "output_type": "stream",
     "text": [
      "Total number of new rows: 71382\n",
      "            id              id_hash  \\\n",
      "1       646052 -9223246741057785091   \n",
      "3       618233 -9223091225135471536   \n",
      "5       951661 -9223033868187012102   \n",
      "9       543473 -9222757314057477471   \n",
      "13      819257 -9222551129100040980   \n",
      "...        ...                  ...   \n",
      "263675  138788  9223051560120933418   \n",
      "263678  448330  9223182179632119970   \n",
      "263679  810242  9223211836897552880   \n",
      "263681  709338  9223258651805100748   \n",
      "263682  446847  9223292070439574097   \n",
      "\n",
      "                                             abstractText agency  \\\n",
      "1       Zeolites are highly porous aluminosilicate sol...    NSF   \n",
      "3       The reversible binding of proteins to cellular...    NSF   \n",
      "5       Under the supervision of Dr. Richard Burger, M...    NSF   \n",
      "9       Membrane protein folding involves oligomerizat...    NSF   \n",
      "13      Under the supervision of Dr. Carla M. Sinopoli...    NSF   \n",
      "...                                                   ...    ...   \n",
      "263675  \"Addressing Accessibility in Mathematics, Phas...    NSF   \n",
      "263678  The future of wireless networking will be hete...    NSF   \n",
      "263679  Summary: Collaborative research: Tectonic rate...    NSF   \n",
      "263681  Researchers all over the world in a variety of...    NSF   \n",
      "263682  The Panel Study of Income Dynamics (PSID) is a...    NSF   \n",
      "\n",
      "        awardAgencyCode                                            awardee  \\\n",
      "1                4900.0           TEXAS A&M ENGINEERING EXPERIMENT STATION   \n",
      "3                4900.0  RESEARCH FOUNDATION OF THE CITY UNIVERSITY OF ...   \n",
      "5                4900.0                                          YALE UNIV   \n",
      "9                4900.0    IOWA STATE UNIVERSITY OF SCIENCE AND TECHNOLOGY   \n",
      "13               4900.0              REGENTS OF THE UNIVERSITY OF MICHIGAN   \n",
      "...                 ...                                                ...   \n",
      "263675           4900.0                 EDUCATION DEVELOPMENT CENTER, INC.   \n",
      "263678           4900.0                            NORTHEASTERN UNIVERSITY   \n",
      "263679           4900.0                             BOISE STATE UNIVERSITY   \n",
      "263681           4900.0                              UNIVERSITY OF ARIZONA   \n",
      "263682           4900.0              REGENTS OF THE UNIVERSITY OF MICHIGAN   \n",
      "\n",
      "                     awardeeAddress      awardeeCity awardeeCountryCode  \\\n",
      "1                         3124 TAMU  COLLEGE STATION                 US   \n",
      "3                  2900 BEDFORD AVE         BROOKLYN                 US   \n",
      "5                     150 MUNSON ST        NEW HAVEN                 US   \n",
      "9              1350 BEARDSHEAR HALL             AMES                 US   \n",
      "13      1109 GEDDES AVE, SUITE 3300        ANN ARBOR                 US   \n",
      "...                             ...              ...                ...   \n",
      "263675         300 5TH AVE STE 2010          WALTHAM                 US   \n",
      "263678           360 HUNTINGTON AVE           BOSTON                 US   \n",
      "263679           1910 UNIVERSITY DR            BOISE                 US   \n",
      "263681        845 N PARK AVE RM 538           TUCSON                 US   \n",
      "263682  1109 GEDDES AVE, SUITE 3300        ANN ARBOR                 US   \n",
      "\n",
      "       awardeeDistrictCode  ...           poEmail              poName  \\\n",
      "1                     TX10  ...     cfoss@nsf.gov          Colby Foss   \n",
      "3                     NY09  ...               NaN        Kamal Shukla   \n",
      "5                     CT03  ...   jyellen@nsf.gov         John Yellen   \n",
      "9                     IA04  ...               NaN        Kamal Shukla   \n",
      "13                    MI06  ...   jyellen@nsf.gov         John Yellen   \n",
      "...                    ...  ...               ...                 ...   \n",
      "263675                MA05  ...               NaN            Ron Tzur   \n",
      "263678                MA07  ...  aabouzei@nsf.gov  Alhussein Abouzeid   \n",
      "263679                ID02  ...               NaN   William P. Leeman   \n",
      "263681                AZ07  ...               NaN     Maria Zemankova   \n",
      "263682                MI06  ...               NaN      Amy L. Sussman   \n",
      "\n",
      "             poPhone   startDate  \\\n",
      "1       7.032925e+09  09/01/2007   \n",
      "3                NaN  08/15/2006   \n",
      "5       7.032929e+09  11/15/2009   \n",
      "9                NaN  05/01/2006   \n",
      "13      7.032929e+09  05/01/2008   \n",
      "...              ...         ...   \n",
      "263675           NaN  09/01/2002   \n",
      "263678  7.032920e+09  02/01/2005   \n",
      "263679           NaN  08/15/2008   \n",
      "263681           NaN  09/01/2007   \n",
      "263682           NaN  04/01/2005   \n",
      "\n",
      "                                                    title         transType  \\\n",
      "1       Towards A Molecular Description of Zeolite Nuc...  Continuing Grant   \n",
      "3       Collaborative Research: Arabidopsis 2010: Stru...  Continuing Grant   \n",
      "5       Doctoral Dissertation Improvement Grant: The J...    Standard Grant   \n",
      "9       Oligomeric Structure of Membrane Peptides From...  Continuing Grant   \n",
      "13      Doctoral Dissertation Improvement Grant: Regio...    Standard Grant   \n",
      "...                                                   ...               ...   \n",
      "263675   Addressing Accessibility in Mathematics, Phase 2  Continuing Grant   \n",
      "263678  CAREER:     Cross-Layer Protocols for Robust a...  Continuing Grant   \n",
      "263679  Collaborative Research: Tectonic Rates From Ga...    Standard Grant   \n",
      "263681  CRI: CRD - Developing a Dark Web Collection an...  Continuing Grant   \n",
      "263682  Improving the Value of CDS-I for the User Comm...    Standard Grant   \n",
      "\n",
      "        piMiddeInitial                             primaryProgram  \\\n",
      "1                  NaN  01000910DB NSF RESEARCH & RELATED ACTIVIT   \n",
      "3                  NaN  01000910DB NSF RESEARCH & RELATED ACTIVIT   \n",
      "5                    L  01001011DB NSF RESEARCH & RELATED ACTIVIT   \n",
      "9                  NaN  01000910DB NSF RESEARCH & RELATED ACTIVIT   \n",
      "13                 NaN  01000809DB NSF RESEARCH & RELATED ACTIVIT   \n",
      "...                ...                                        ...   \n",
      "263675               E                                        NaN   \n",
      "263678             NaN                                        NaN   \n",
      "263679               J  01000809DB NSF RESEARCH & RELATED ACTIVIT   \n",
      "263681             NaN  01000809DB NSF RESEARCH & RELATED ACTIVIT   \n",
      "263682               P                                        NaN   \n",
      "\n",
      "                                      publicationResearch  \\\n",
      "1       LANGMUIR~2010~26~Li, XA; Shantz, DF~10.1021/la...   \n",
      "3       BMC Plant Biology~2010~10~Wywial, E. and S.M. ...   \n",
      "5       Arqueologia y Sociedad~2013~25~Ryan Clasby and...   \n",
      "9       J. Am. Chem. Soc.~2011~133~Li, S.;Hong, M.;~~1...   \n",
      "13                                                    NaN   \n",
      "...                                                   ...   \n",
      "263675                                                NaN   \n",
      "263678  in  Proceedings of  WWIC, LNCS, Springer-Verla...   \n",
      "263679  GSA Abstr. Prog. (GSA Rocky Mountain â?? Cordi...   \n",
      "263681  IEEE Transactions on Systems, Man, and Cyberne...   \n",
      "263682  Time &amp; Society~2007~16(1)~Tijdens, K., &am...   \n",
      "\n",
      "       projectOutComesReport  \n",
      "1                        NaN  \n",
      "3                        NaN  \n",
      "5                        NaN  \n",
      "9                        NaN  \n",
      "13                       NaN  \n",
      "...                      ...  \n",
      "263675                   NaN  \n",
      "263678                   NaN  \n",
      "263679                   NaN  \n",
      "263681                   NaN  \n",
      "263682                   NaN  \n",
      "\n",
      "[71382 rows x 42 columns]\n"
     ]
    }
   ],
   "source": [
    "combined_df['AwardID'] = combined_df['AwardID'].astype(str)\n",
    "api_df['id'] = api_df['id'].astype(str)\n",
    "\n",
    "# Find the rows in the API data that are not present in the combined data\n",
    "new_rows = api_df[~api_df['id'].isin(combined_df['AwardID'])]\n",
    "\n",
    "# Get the count of new rows\n",
    "new_rows_count = new_rows.shape[0]\n",
    "\n",
    "# Output the new rows to a CSV file\n",
    "#new_rows.to_csv(\"new_rows_from_api.csv\", index=False)\n",
    "\n",
    "# Display the total count of new rows and the new rows themselves\n",
    "print(f\"Total number of new rows: {new_rows_count}\")\n",
    "print(new_rows)"
   ]
  },
  {
   "cell_type": "code",
   "execution_count": 5,
   "id": "be5493fb",
   "metadata": {},
   "outputs": [
    {
     "name": "stdout",
     "output_type": "stream",
     "text": [
      "Total number of new rows: 71382\n"
     ]
    }
   ],
   "source": [
    "# Get the count of new rows\n",
    "new_rows_count = new_rows.shape[0]\n",
    "\n",
    "# Display the total count of new rows\n",
    "print(f\"Total number of new rows: {new_rows_count}\")"
   ]
  },
  {
   "cell_type": "code",
   "execution_count": 6,
   "id": "30fc0b0c",
   "metadata": {},
   "outputs": [
    {
     "name": "stdout",
     "output_type": "stream",
     "text": [
      "Total number of unique records in combined_df: 629901\n",
      "Total number of unique records in api_df: 263684\n"
     ]
    }
   ],
   "source": [
    "# Ensure the 'AwardID' and 'id' columns are of the same type in both DataFrames\n",
    "combined_df['AwardID'] = combined_df['AwardID'].astype(str)\n",
    "api_df['id'] = api_df['id'].astype(str)\n",
    "\n",
    "# Find the unique records in each DataFrame individually\n",
    "unique_combined_ids = combined_df['AwardID'].nunique()\n",
    "unique_api_ids = api_df['id'].nunique()\n",
    "\n",
    "# Display the total count of unique records in each DataFrame\n",
    "print(f\"Total number of unique records in combined_df: {unique_combined_ids}\")\n",
    "print(f\"Total number of unique records in api_df: {unique_api_ids}\")"
   ]
  },
  {
   "cell_type": "code",
   "execution_count": 7,
   "id": "88f57559",
   "metadata": {},
   "outputs": [
    {
     "name": "stdout",
     "output_type": "stream",
     "text": [
      "Total number of common records in both DataFrames: 192303\n"
     ]
    }
   ],
   "source": [
    "# Find the common records in both DataFrames\n",
    "common_records = combined_df[combined_df['AwardID'].isin(api_df['id'])]\n",
    "\n",
    "# Get the count of common records\n",
    "common_records_count = common_records.shape[0]\n",
    "\n",
    "# Display the total count of common records\n",
    "print(f\"Total number of common records in both DataFrames: {common_records_count}\")"
   ]
  },
  {
   "cell_type": "code",
   "execution_count": null,
   "id": "0f0e3bf8",
   "metadata": {},
   "outputs": [],
   "source": []
  }
 ],
 "metadata": {
  "kernelspec": {
   "display_name": "Python 3 (ipykernel)",
   "language": "python",
   "name": "python3"
  },
  "language_info": {
   "codemirror_mode": {
    "name": "ipython",
    "version": 3
   },
   "file_extension": ".py",
   "mimetype": "text/x-python",
   "name": "python",
   "nbconvert_exporter": "python",
   "pygments_lexer": "ipython3",
   "version": "3.11.5"
  }
 },
 "nbformat": 4,
 "nbformat_minor": 5
}
